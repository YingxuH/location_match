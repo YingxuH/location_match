{
 "cells": [
  {
   "cell_type": "code",
   "execution_count": 40,
   "id": "0192a5c6-43fe-406c-b478-4ff2c232784e",
   "metadata": {},
   "outputs": [],
   "source": [
    "from collections import defaultdict\n",
    "\n",
    "import numpy as np\n",
    "import pandas as pd\n",
    "import jieba\n",
    "\n",
    "from scipy.sparse import csr_matrix, csr_array"
   ]
  },
  {
   "cell_type": "code",
   "execution_count": 28,
   "id": "ee442b0e-5417-46fd-9184-858be2d736fd",
   "metadata": {},
   "outputs": [],
   "source": [
    "import numpy as np\n",
    "\n",
    "def viterbi(y, A, B, Pi=None):\n",
    "    \"\"\"\n",
    "    Return the MAP estimate of state trajectory of Hidden Markov Model.\n",
    "\n",
    "    Parameters\n",
    "    ----------\n",
    "    y : array (T,)\n",
    "        Observation state sequence. int dtype.\n",
    "    A : array (K, K)\n",
    "        State transition matrix. See HiddenMarkovModel.state_transition  for\n",
    "        details.\n",
    "    B : array (K, M)\n",
    "        Emission matrix. See HiddenMarkovModel.emission for details.\n",
    "    Pi: optional, (K,)\n",
    "        Initial state probabilities: Pi[i] is the probability x[0] == i. If\n",
    "        None, uniform initial distribution is assumed (Pi[:] == 1/K).\n",
    "\n",
    "    Returns\n",
    "    -------\n",
    "    x : array (T,)\n",
    "        Maximum a posteriori probability estimate of hidden state trajectory,\n",
    "        conditioned on observation sequence y under the model parameters A, B,\n",
    "        Pi.\n",
    "    T1: array (K, T)\n",
    "        the probability of the most likely path so far\n",
    "    T2: array (K, T)\n",
    "        the x_j-1 of the most likely path so far\n",
    "    \"\"\"\n",
    "    # Cardinality of the state space\n",
    "    K = A.shape[0]\n",
    "    # Initialize the priors with default (uniform dist) if not given by caller\n",
    "    Pi = Pi if Pi is not None else np.full(K, 1 / K)\n",
    "    T = len(y)\n",
    "    T1 = np.empty((K, T), 'd')\n",
    "    T2 = np.empty((K, T), 'B')\n",
    "\n",
    "    # Initilaize the tracking tables from first observation\n",
    "    T1[:, 0] = Pi * B[:, y[0]]\n",
    "    T2[:, 0] = 0\n",
    "\n",
    "    # Iterate throught the observations updating the tracking tables\n",
    "    for i in range(1, T):\n",
    "        T1[:, i] = np.max(T1[:, i - 1] * A.T * B[np.newaxis, :, y[i]].T, 1)\n",
    "        T2[:, i] = np.argmax(T1[:, i - 1] * A.T, 1)\n",
    "\n",
    "    # Build the output, optimal model trajectory\n",
    "    x = np.empty(T, 'B')\n",
    "    x[-1] = np.argmax(T1[:, T - 1])\n",
    "    for i in reversed(range(1, T)):\n",
    "        x[i - 1] = T2[x[i], i]\n",
    "\n",
    "    return x, T1, T2"
   ]
  },
  {
   "cell_type": "code",
   "execution_count": 19,
   "id": "ca6511e6-13c0-4611-8972-1068ffff0464",
   "metadata": {},
   "outputs": [],
   "source": [
    "df = pd.read_csv(\"./ok_data_level3-4/ok_data_level3.csv\").iloc[:-3]"
   ]
  },
  {
   "cell_type": "code",
   "execution_count": 45,
   "id": "6406a4eb-4814-4a0b-878d-5e3c246eea0a",
   "metadata": {},
   "outputs": [],
   "source": [
    "states = [\"s\", \"m\", \"e\", \"suf\"]"
   ]
  },
  {
   "cell_type": "code",
   "execution_count": 29,
   "id": "90985a2f-8666-43df-abe6-97e50da668f0",
   "metadata": {
    "scrolled": true
   },
   "outputs": [
    {
     "data": {
      "text/html": [
       "<div>\n",
       "<style scoped>\n",
       "    .dataframe tbody tr th:only-of-type {\n",
       "        vertical-align: middle;\n",
       "    }\n",
       "\n",
       "    .dataframe tbody tr th {\n",
       "        vertical-align: top;\n",
       "    }\n",
       "\n",
       "    .dataframe thead th {\n",
       "        text-align: right;\n",
       "    }\n",
       "</style>\n",
       "<table border=\"1\" class=\"dataframe\">\n",
       "  <thead>\n",
       "    <tr style=\"text-align: right;\">\n",
       "      <th></th>\n",
       "      <th>id</th>\n",
       "      <th>pid</th>\n",
       "      <th>deep</th>\n",
       "      <th>name</th>\n",
       "      <th>pinyin_prefix</th>\n",
       "      <th>pinyin</th>\n",
       "      <th>ext_id</th>\n",
       "      <th>ext_name</th>\n",
       "      <th>suffix</th>\n",
       "    </tr>\n",
       "  </thead>\n",
       "  <tbody>\n",
       "    <tr>\n",
       "      <th>0</th>\n",
       "      <td>11</td>\n",
       "      <td>0</td>\n",
       "      <td>0</td>\n",
       "      <td>北京</td>\n",
       "      <td>b</td>\n",
       "      <td>bei jing</td>\n",
       "      <td>110000000000</td>\n",
       "      <td>北京市</td>\n",
       "      <td>市</td>\n",
       "    </tr>\n",
       "    <tr>\n",
       "      <th>1</th>\n",
       "      <td>1101</td>\n",
       "      <td>11</td>\n",
       "      <td>1</td>\n",
       "      <td>北京</td>\n",
       "      <td>b</td>\n",
       "      <td>bei jing</td>\n",
       "      <td>110100000000</td>\n",
       "      <td>北京市</td>\n",
       "      <td>市</td>\n",
       "    </tr>\n",
       "    <tr>\n",
       "      <th>2</th>\n",
       "      <td>110101</td>\n",
       "      <td>1101</td>\n",
       "      <td>2</td>\n",
       "      <td>东城</td>\n",
       "      <td>d</td>\n",
       "      <td>dong cheng</td>\n",
       "      <td>110101000000</td>\n",
       "      <td>东城区</td>\n",
       "      <td>区</td>\n",
       "    </tr>\n",
       "    <tr>\n",
       "      <th>3</th>\n",
       "      <td>110102</td>\n",
       "      <td>1101</td>\n",
       "      <td>2</td>\n",
       "      <td>西城</td>\n",
       "      <td>x</td>\n",
       "      <td>xi cheng</td>\n",
       "      <td>110102000000</td>\n",
       "      <td>西城区</td>\n",
       "      <td>区</td>\n",
       "    </tr>\n",
       "    <tr>\n",
       "      <th>4</th>\n",
       "      <td>110105</td>\n",
       "      <td>1101</td>\n",
       "      <td>2</td>\n",
       "      <td>朝阳</td>\n",
       "      <td>c</td>\n",
       "      <td>chao yang</td>\n",
       "      <td>110105000000</td>\n",
       "      <td>朝阳区</td>\n",
       "      <td>区</td>\n",
       "    </tr>\n",
       "  </tbody>\n",
       "</table>\n",
       "</div>"
      ],
      "text/plain": [
       "       id   pid  deep name pinyin_prefix      pinyin        ext_id ext_name  \\\n",
       "0      11     0     0   北京             b    bei jing  110000000000      北京市   \n",
       "1    1101    11     1   北京             b    bei jing  110100000000      北京市   \n",
       "2  110101  1101     2   东城             d  dong cheng  110101000000      东城区   \n",
       "3  110102  1101     2   西城             x    xi cheng  110102000000      西城区   \n",
       "4  110105  1101     2   朝阳             c   chao yang  110105000000      朝阳区   \n",
       "\n",
       "  suffix  \n",
       "0      市  \n",
       "1      市  \n",
       "2      区  \n",
       "3      区  \n",
       "4      区  "
      ]
     },
     "execution_count": 29,
     "metadata": {},
     "output_type": "execute_result"
    }
   ],
   "source": [
    "df.head()"
   ]
  },
  {
   "cell_type": "code",
   "execution_count": 26,
   "id": "806d766b-ce2b-4482-a6bf-0eb7df50ec34",
   "metadata": {},
   "outputs": [],
   "source": [
    "df[\"suffix\"] = df.apply(lambda row: row[\"ext_name\"].split(row[\"name\"])[1], axis=1)"
   ]
  },
  {
   "cell_type": "code",
   "execution_count": 87,
   "id": "c69ef79e-d590-4576-8af8-32e89e0fe1ad",
   "metadata": {},
   "outputs": [],
   "source": [
    "emission_freq = defaultdict(int)\n",
    "transition_matrix = np.zeros((len(states), len(states) + 1))\n",
    "\n",
    "token_dict = dict()\n",
    "token_increment = 0\n",
    "\n",
    "for name in df[\"name\"]:\n",
    "    for i, token in enumerate(name):\n",
    "        if i == 0:\n",
    "            prev_state = None\n",
    "            state = \"s\"\n",
    "        elif i == len(name) - 1:\n",
    "            prev_state = \"m\" if len(name) > 2 else \"s\"\n",
    "            state = \"e\"\n",
    "        else:\n",
    "            prev_state = \"s\" if i == 1 else \"m\"\n",
    "            state = \"m\"\n",
    "\n",
    "        state_index = states.index(state)\n",
    "\n",
    "        if prev_state:\n",
    "            prev_state_index = states.index(prev_state)\n",
    "            transition_matrix[prev_state_index, state_index] += 1\n",
    "\n",
    "        if token in token_dict:\n",
    "            token_index = token_dict[token]\n",
    "        else:\n",
    "            token_increment += 1\n",
    "            token_dict[token] = token_increment\n",
    "            token_index = token_increment\n",
    "\n",
    "        emission_freq[(state_index, token_index)] += 1\n",
    "\n",
    "for suffix in df[\"suffix\"]:\n",
    "    for i, token in enumerate(suffix):\n",
    "        state = \"suf\"\n",
    "        state_index = states.index(state)\n",
    "        \n",
    "        if token in token_dict:\n",
    "            token_index = token_dict[token]\n",
    "        else:\n",
    "            token_increment += 1\n",
    "            token_dict[token] = token_increment\n",
    "            token_index = token_increment\n",
    "\n",
    "        emission_freq[(state_index, token_index)] += 1\n",
    "\n",
    "transition_matrix[2, 3] = df.shape[0]\n",
    "transition_matrix[2, 0] = 0.5 * df.shape[0]\n",
    "transition_matrix[2, 4] = 0.5 * df.shape[0]\n",
    "transition_matrix[3, 0] = df.shape[0]\n",
    "transition_matrix[3, 3] = df.shape[0]\n",
    "transition_matrix[3, 4] = df.shape[0]\n",
    "\n",
    "transition_matrix = transition_matrix / transition_matrix.sum(axis=1, keepdims=True)\n",
    "transition_matrix = transition_matrix[:, :-1]\n",
    "\n",
    "initial_probs = np.array([1, 0, 0, 0])"
   ]
  },
  {
   "cell_type": "code",
   "execution_count": 88,
   "id": "9a2ce5f6-cf7b-41a8-b6a4-9d7366b07895",
   "metadata": {},
   "outputs": [],
   "source": [
    "state_indices = []\n",
    "token_indices = []\n",
    "frequencies = []\n",
    "\n",
    "for (si, ti), freq in emission_freq.items():\n",
    "    state_indices.append(si)\n",
    "    token_indices.append(ti)\n",
    "    frequencies.append(freq)\n",
    "\n",
    "emission_matrix = csr_matrix((frequencies, (state_indices, token_indices))).toarray()"
   ]
  },
  {
   "cell_type": "code",
   "execution_count": 89,
   "id": "c2c181f9-2c1b-445b-8cc9-0346f584a6bd",
   "metadata": {},
   "outputs": [],
   "source": [
    "def infer(text, token_dict, transition_matrix, emission_matrix, initial_probs=None):\n",
    "    indices = []\n",
    "    for c in text:\n",
    "        indices.append(token_dict[c])\n",
    "    \n",
    "    return viterbi(indices, A=transition_matrix, B=emission_matrix, Pi=initial_probs)\n",
    "        "
   ]
  },
  {
   "cell_type": "code",
   "execution_count": 99,
   "id": "f9afee41-0a8c-476d-bdc7-7a857b2daed4",
   "metadata": {},
   "outputs": [
    {
     "data": {
      "text/plain": [
       "(array([0, 2, 3, 0, 2, 3, 3, 3, 3, 3, 3, 3, 3], dtype=uint8),\n",
       " array([[2.10000000e+01, 0.00000000e+00, 1.10984191e+03, 2.83724918e+06,\n",
       "         0.00000000e+00, 2.56320558e+06, 0.00000000e+00, 0.00000000e+00,\n",
       "         2.48061340e+09, 0.00000000e+00, 1.55121025e+12, 4.03314664e+13,\n",
       "         0.00000000e+00],\n",
       "        [0.00000000e+00, 4.05668685e+00, 0.00000000e+00, 2.14394337e+02,\n",
       "         0.00000000e+00, 0.00000000e+00, 2.72331776e+06, 3.78632283e+06,\n",
       "         0.00000000e+00, 9.58387785e+08, 1.66559959e+09, 7.49139786e+11,\n",
       "         0.00000000e+00],\n",
       "        [0.00000000e+00, 7.39894606e+02, 7.67528167e+01, 2.90766975e+04,\n",
       "         2.56320558e+06, 0.00000000e+00, 4.63126247e+06, 0.00000000e+00,\n",
       "         0.00000000e+00, 0.00000000e+00, 6.25267867e+08, 4.20414686e+12,\n",
       "         4.62736432e+15],\n",
       "        [0.00000000e+00, 0.00000000e+00, 2.65992111e+05, 0.00000000e+00,\n",
       "         0.00000000e+00, 1.66608363e+07, 5.55361209e+07, 3.72092010e+09,\n",
       "         3.47285876e+10, 2.32681537e+12, 1.20994399e+14, 6.29170876e+15,\n",
       "         2.75786567e+18]]),\n",
       " array([[0, 0, 2, 3, 2, 2, 3, 3, 3, 3, 3, 3, 3],\n",
       "        [0, 0, 1, 0, 0, 0, 0, 1, 1, 0, 1, 0, 0],\n",
       "        [0, 0, 1, 0, 0, 0, 0, 1, 1, 0, 1, 0, 0],\n",
       "        [0, 0, 2, 3, 2, 2, 3, 3, 3, 3, 3, 3, 3]], dtype=uint8))"
      ]
     },
     "execution_count": 99,
     "metadata": {},
     "output_type": "execute_result"
    }
   ],
   "source": [
    "infer(\"广西市海淀土家族苗族自治县\", token_dict, transition_matrix, emission_matrix, initial_probs)"
   ]
  },
  {
   "cell_type": "code",
   "execution_count": 47,
   "id": "349cc64c-574b-43d6-a725-8a56280b1815",
   "metadata": {},
   "outputs": [],
   "source": []
  },
  {
   "cell_type": "code",
   "execution_count": 48,
   "id": "34d507e7-3570-45fb-9f07-80d69924e0de",
   "metadata": {},
   "outputs": [
    {
     "data": {
      "text/plain": [
       "<4x1296 sparse matrix of type '<class 'numpy.intc'>'\n",
       "\twith 1987 stored elements in Compressed Sparse Row format>"
      ]
     },
     "execution_count": 48,
     "metadata": {},
     "output_type": "execute_result"
    }
   ],
   "source": [
    "emission_matrix"
   ]
  },
  {
   "cell_type": "code",
   "execution_count": null,
   "id": "c91efc86-15c6-4402-949b-30bf6f9a086d",
   "metadata": {},
   "outputs": [],
   "source": []
  },
  {
   "cell_type": "code",
   "execution_count": 12,
   "id": "53b0d2f0-594b-48bb-b957-7e7c7ff412fe",
   "metadata": {},
   "outputs": [
    {
     "name": "stdout",
     "output_type": "stream",
     "text": [
      "北京 ns\n",
      "海淀 ns\n"
     ]
    }
   ],
   "source": [
    "import jieba\n",
    "import jieba.posseg as pseg\n",
    "# words = pseg.cut(\"我爱北京天安门\") #jieba默认模式\n",
    "# jieba.enable_paddle() #启动paddle模式。 0.40版之后开始支持，早期版本不支持\n",
    "words = pseg.cut(\"北京海淀\") #paddle模式\n",
    "for word, flag in words:\n",
    "    print('%s %s' % (word, flag))\n"
   ]
  },
  {
   "cell_type": "code",
   "execution_count": null,
   "id": "0f685398-c7d4-404f-9309-4a7e1145e7a8",
   "metadata": {},
   "outputs": [],
   "source": []
  }
 ],
 "metadata": {
  "kernelspec": {
   "display_name": "Python 3 (ipykernel)",
   "language": "python",
   "name": "python3"
  },
  "language_info": {
   "codemirror_mode": {
    "name": "ipython",
    "version": 3
   },
   "file_extension": ".py",
   "mimetype": "text/x-python",
   "name": "python",
   "nbconvert_exporter": "python",
   "pygments_lexer": "ipython3",
   "version": "3.10.12"
  }
 },
 "nbformat": 4,
 "nbformat_minor": 5
}
